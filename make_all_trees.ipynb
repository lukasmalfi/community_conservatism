{
 "cells": [
  {
   "cell_type": "code",
   "execution_count": null,
   "metadata": {},
   "outputs": [],
   "source": [
    "#Here we make all phylogenetic trees of the investigated Phyla with >500 OTUs"
   ]
  },
  {
   "cell_type": "code",
   "execution_count": 1,
   "metadata": {},
   "outputs": [],
   "source": [
    "import random\n",
    "import feather\n",
    "import os\n",
    "import matplotlib.pyplot as plt\n",
    "import subprocess\n",
    "from Bio.Phylo.PhyloXML import Phylogeny\n",
    "from Bio import Phylo\n",
    "import networkx, pylab\n",
    "from tqdm import tqdm\n",
    "import math"
   ]
  },
  {
   "cell_type": "code",
   "execution_count": 2,
   "metadata": {},
   "outputs": [],
   "source": [
    "#function to import the microbeatlas files with taxonbomy and OTU-abudnances\n",
    "import h5py\n",
    "import numpy as np\n",
    "import pandas as pd\n",
    "from scipy.sparse import csc_matrix\n",
    "\n",
    "def read_mapdb_h5(h5_path, otu_data=True, meta_data=True):\n",
    "    \"\"\"Example file: /mnt/mnemo3/janko/data/microbe_atlas/sruns-otus.97.otutable_plusMetaNoHeader_taxonomy_unmapped.h5\"\"\"\n",
    "    f = h5py.File(h5_path, 'r')\n",
    "    result_dict = {}\n",
    "\n",
    "    # read otu data\n",
    "    if otu_data:\n",
    "        data_handle = f[\"otu_table\"]\n",
    "        col_ptr, nzvals, rowindices, otu_index, sample_index = [np.array(data_handle[sub_key]) for sub_key in ['data_colptr', 'data_nzval', 'data_rowval', 'oids', 'sids']]\n",
    "\n",
    "        ## correct indexing (julia starts at 1)\n",
    "        col_ptr -= 1\n",
    "        rowindices -= 1\n",
    "\n",
    "        otutable_sparse = csc_matrix((nzvals,rowindices,col_ptr), shape=(data_handle[\"m\"][()],data_handle[\"n\"][()]))\n",
    "        result_dict[\"otu_data\"] = {\"otu_table\": otutable_sparse, \"otu_index\": otu_index, \"sample_index\": sample_index}\n",
    "\n",
    "    # read meta data\n",
    "    if meta_data:\n",
    "        meta_handle = f[\"meta_data\"]\n",
    "        result_dict[\"meta_data\"] = {sub_key: pd.DataFrame(np.array(meta_handle[sub_key]).T) for sub_key in meta_handle.keys()}\n",
    "\n",
    "    f.close()\n",
    "\n",
    "    return result_dict\n",
    "\n"
   ]
  },
  {
   "cell_type": "markdown",
   "metadata": {
    "slideshow": {
     "slide_type": "slide"
    }
   },
   "source": [
    "## Select Phyla, Families etc."
   ]
  },
  {
   "cell_type": "code",
   "execution_count": 3,
   "metadata": {},
   "outputs": [],
   "source": [
    "savepath=\"/mnt/mnemo6/lukas/Python/community_conservatism/taxo_groups/\""
   ]
  },
  {
   "cell_type": "code",
   "execution_count": 4,
   "metadata": {},
   "outputs": [],
   "source": [
    "#select OTU level here: in This case 99%\n",
    "f1=read_mapdb_h5(\"/mnt/mnemo3/janko/data/microbe_atlas/hdf5/v0.2.2/metag_minfilter/samples-otus.99.metag.minfilter.remap.h5\")\n",
    "tax=f1[\"meta_data\"][\"taxonomy\"]"
   ]
  },
  {
   "cell_type": "code",
   "execution_count": 5,
   "metadata": {},
   "outputs": [],
   "source": [
    "tax=f1[\"meta_data\"][\"taxonomy\"]"
   ]
  },
  {
   "cell_type": "code",
   "execution_count": 15,
   "metadata": {},
   "outputs": [],
   "source": [
    "#select all bacteria and archeael phyla with >500 otus\n",
    "taxbac=tax[tax[2].str.contains(\"Archaea|Bacteria\")]\n",
    "taxesb=taxbac[2].str.split(\";\",expand=True)\n",
    "#taxesb=tax[2].str.split(\";\",expand=True)\n",
    "\n",
    "#Phyla:\n",
    "#taxesb[1].value_counts()\n",
    "\n",
    "\n",
    "#Classes:\n",
    "classs=taxesb[2].value_counts()\n",
    "\n",
    "#order:3\n",
    "#family:\n",
    "fam=taxesb[4].value_counts()\n",
    "phyla=classs=taxesb[1].value_counts()"
   ]
  },
  {
   "cell_type": "code",
   "execution_count": 26,
   "metadata": {},
   "outputs": [],
   "source": [
    "# all the phyla with more than 500 OTUs\n",
    "phylanames=phyla[phyla>500].index\n"
   ]
  },
  {
   "cell_type": "code",
   "execution_count": 23,
   "metadata": {},
   "outputs": [],
   "source": [
    "def makedirs(taxnam):\n",
    "    inp_1=\"mkdir \"+savepath+taxnam\n",
    "    subprocess.run(inp_1,shell=True)\n",
    "    inp_2=\"mkdir \"+savepath+taxnam+\"/plots\"\n",
    "    subprocess.run(inp_2,shell=True)\n",
    "    inp_3=\"mkdir \"+savepath+taxnam+\"/tree\"\n",
    "    subprocess.run(inp_3,shell=True)\n",
    "      "
   ]
  },
  {
   "cell_type": "code",
   "execution_count": 24,
   "metadata": {},
   "outputs": [],
   "source": [
    "for phyl in phylanames:\n",
    "    makedirs(phyl)"
   ]
  },
  {
   "cell_type": "markdown",
   "metadata": {},
   "source": [
    "### lets create the phylo tree here"
   ]
  },
  {
   "cell_type": "code",
   "execution_count": 36,
   "metadata": {},
   "outputs": [],
   "source": [
    "def save_alignment(taxname):\n",
    "    tax_of_interest=tax[tax[2].str.contains(taxname)]\n",
    "\n",
    "    taxlist=tax_of_interest[1].tolist()\n",
    "\n",
    "    #get the alignment files of all representative 16S sequences from MApREF:\n",
    "\n",
    "    \n",
    "    if \"archaeota\" in taxname:\n",
    "        all_alignment_file=pd.read_csv(\"/mnt/mnemo6/lukas/Python/evo_treedists/global_alignment/all_archaea_99_alignments.tsv\",sep=\"\\t\")\n",
    "\n",
    "\n",
    "        all_alignment_file.index=all_alignment_file[\"ID\"]\n",
    "    else:\n",
    "        all_alignment_file=pd.read_csv(\"/mnt/mnemo6/lukas/Python/evo_treedists/global_alignment/all_99_alignments.tsv\",sep=\"\\t\")\n",
    "\n",
    "\n",
    "        all_alignment_file.index=all_alignment_file[\"ID\"]\n",
    "\n",
    "\n",
    "    #get all the sequences into one file\n",
    "\n",
    "\n",
    "\n",
    "    #loop through our list of IDs belonging to the tax, then extract the alignment of it and save into file\n",
    "\n",
    "    alignment_str=\"\"\n",
    "    c=0\n",
    "    for ids in taxlist:\n",
    "        try:\n",
    "            alignment_str+=\">\"+ids+\"\\n\"+all_alignment_file.loc[ids,\"sequ\"]+\"\\n\"\n",
    "            #alignment_str+=\n",
    "        except:\n",
    "\n",
    "            c+=1\n",
    "    print(str(c)+\" not found\")\n",
    "\n",
    "    #save the alignment file:\n",
    "\n",
    "    align=open(savepath+taxname+\"/tree/\"+taxname+\"_alignment.afa\",\"w\")\n",
    "    align.write(alignment_str)\n",
    "    align.close()"
   ]
  },
  {
   "cell_type": "code",
   "execution_count": 38,
   "metadata": {},
   "outputs": [],
   "source": [
    "#making the trees, always using the same model to ensure comparability\n",
    "def makefasttree(taxname):\n",
    "    com4=\"/mnt/mnemo6/lukas/anaconda3/bin/FastTree -nt -gtr -gamma \"+savepath+taxname+\"/tree/\"+taxname+\"_alignment.afa > /mnt/mnemo6/lukas/Python/community_conservatism/taxo_groups/\"+taxname+\"/tree/\"+taxname+\"_tree.txt\" \n",
    "    subprocess.run(com4,shell=True)"
   ]
  },
  {
   "cell_type": "code",
   "execution_count": null,
   "metadata": {},
   "outputs": [],
   "source": [
    "for phy in phylanames:\n",
    "    save_alignment(phy)"
   ]
  },
  {
   "cell_type": "code",
   "execution_count": null,
   "metadata": {},
   "outputs": [],
   "source": [
    "for phy in phylanames:\n",
    "    makefasttree(phy)"
   ]
  },
  {
   "cell_type": "code",
   "execution_count": 52,
   "metadata": {},
   "outputs": [],
   "source": [
    "#Get the trees into a different format to harmonize with later results and workflows\n",
    "def fixtrees(taxname):\n",
    "    tree_old=open(savepath+taxname+\"/tree/\"+taxname+\"_tree.txt\",\"r\")\n",
    "    treeoldl=tree_old.readlines()\n",
    "    tree_old.close()\n",
    "\n",
    "    newtr=[]\n",
    "    for li in treeoldl:\n",
    "        newtr.append(li.replace(\";\",\"_\"))\n",
    "    newtrstr=\"\".join(newtr)\n",
    "    newstrstr=newtrstr[:-2]+\";\"\n",
    "    new=open(savepath+taxname+\"/tree/\"+taxname+\"_tree_fix.txt\",\"w\")\n",
    "    new.write(newstrstr)\n",
    "    new.close()"
   ]
  },
  {
   "cell_type": "code",
   "execution_count": 53,
   "metadata": {},
   "outputs": [],
   "source": [
    "for phy in phylanames:\n",
    "    fixtrees(phy)"
   ]
  },
  {
   "cell_type": "code",
   "execution_count": 43,
   "metadata": {},
   "outputs": [],
   "source": [
    "#writes a file with the tree paths\n",
    "stritr=\"\"\n",
    "for taxname in phylanames:\n",
    "    stritr+=savepath+taxname+\"/tree/\"+taxname+\"_tree_fix.txt\\n\"\n",
    "\n",
    "ft=open(\"tree_paths.txt\",\"w\")\n",
    "ft.write(stritr)\n",
    "ft.close()"
   ]
  }
 ],
 "metadata": {
  "kernelspec": {
   "display_name": "Python 3",
   "language": "python",
   "name": "python3"
  },
  "language_info": {
   "codemirror_mode": {
    "name": "ipython",
    "version": 3
   },
   "file_extension": ".py",
   "mimetype": "text/x-python",
   "name": "python",
   "nbconvert_exporter": "python",
   "pygments_lexer": "ipython3",
   "version": "3.7.6"
  }
 },
 "nbformat": 4,
 "nbformat_minor": 4
}
